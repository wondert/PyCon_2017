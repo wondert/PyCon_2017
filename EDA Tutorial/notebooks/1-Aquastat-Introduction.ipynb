{
 "cells": [
  {
   "cell_type": "markdown",
   "metadata": {
    "toc": "true"
   },
   "source": [
    "# Table of Contents\n",
    " <p><div class=\"lev1\"><a href=\"#The-dataset\"><span class=\"toc-item-num\">1&nbsp;&nbsp;</span>The dataset</a></div><div class=\"lev1\"><a href=\"#Question:-Is-water-availability-and-water-use-related-to-GDP-per-capita?\"><span class=\"toc-item-num\">2&nbsp;&nbsp;</span>Question: <em>Is water availability and water use related to GDP per capita?</em></a></div><div class=\"lev1\"><a href=\"#Our-plan\"><span class=\"toc-item-num\">3&nbsp;&nbsp;</span>Our plan</a></div><div class=\"lev1\"><a href=\"#To-do:-Develop-investigation-themes-for-exploration\"><span class=\"toc-item-num\">4&nbsp;&nbsp;</span><strong>To do</strong>: Develop investigation themes for exploration</a></div><div class=\"lev1\"><a href=\"#Wrangle\"><span class=\"toc-item-num\">5&nbsp;&nbsp;</span>Wrangle</a></div><div class=\"lev2\"><a href=\"#Things-to-consider-doing\"><span class=\"toc-item-num\">5.1&nbsp;&nbsp;</span>Things to consider doing</a></div><div class=\"lev2\"><a href=\"#Load-the-data\"><span class=\"toc-item-num\">5.2&nbsp;&nbsp;</span>Load the data</a></div><div class=\"lev2\"><a href=\"#Research-the-variables\"><span class=\"toc-item-num\">5.3&nbsp;&nbsp;</span>Research the variables</a></div><div class=\"lev2\"><a href=\"#Describe-the-panel\"><span class=\"toc-item-num\">5.4&nbsp;&nbsp;</span>Describe the panel</a></div><div class=\"lev2\"><a href=\"#Ways-to-look-at-this-data\"><span class=\"toc-item-num\">5.5&nbsp;&nbsp;</span>Ways to look at this data</a></div><div class=\"lev2\"><a href=\"#Slicing\"><span class=\"toc-item-num\">5.6&nbsp;&nbsp;</span>Slicing</a></div><div class=\"lev3\"><a href=\"#For-a-given-time-slice\"><span class=\"toc-item-num\">5.6.1&nbsp;&nbsp;</span>For a given time slice</a></div><div class=\"lev3\"><a href=\"#For-a-given-country\"><span class=\"toc-item-num\">5.6.2&nbsp;&nbsp;</span>For a given country</a></div><div class=\"lev3\"><a href=\"#By-variable\"><span class=\"toc-item-num\">5.6.3&nbsp;&nbsp;</span>By variable</a></div><div class=\"lev3\"><a href=\"#Time-series-for-given-country-and-variable\"><span class=\"toc-item-num\">5.6.4&nbsp;&nbsp;</span>Time series for given country and variable</a></div><div class=\"lev2\"><a href=\"#By-region\"><span class=\"toc-item-num\">5.7&nbsp;&nbsp;</span>By region</a></div><div class=\"lev2\"><a href=\"#Exercises\"><span class=\"toc-item-num\">5.8&nbsp;&nbsp;</span>Exercises</a></div><div class=\"lev1\"><a href=\"#To-do:-Update-investigation-themes\"><span class=\"toc-item-num\">6&nbsp;&nbsp;</span><strong>To do</strong>: Update investigation themes</a></div>"
   ]
  },
  {
   "cell_type": "code",
   "execution_count": null,
   "metadata": {
    "ExecuteTime": {
     "end_time": "2017-05-17T06:17:05.577987Z",
     "start_time": "2017-05-17T06:17:04.768659Z"
    },
    "collapsed": true,
    "run_control": {
     "frozen": false,
     "read_only": false
    }
   },
   "outputs": [],
   "source": [
    "%matplotlib inline\n",
    "%config InlineBackend.figure_format='retina'\n",
    "import matplotlib as mpl\n",
    "from matplotlib import pyplot as plt\n",
    "import seaborn as sns\n",
    "import numpy as np\n",
    "import pandas as pd\n",
    "import os, sys\n",
    "import warnings\n",
    "warnings.filterwarnings('ignore')\n",
    "sns.set_context(\"poster\", font_scale=1.3)"
   ]
  },
  {
   "cell_type": "markdown",
   "metadata": {},
   "source": [
    "# The dataset"
   ]
  },
  {
   "cell_type": "markdown",
   "metadata": {},
   "source": [
    "<img src=\"figures/fao.jpg\" alt=\"FAO\" width=\"290\" align=\"right\">\n",
    "We will be using the [Food and Agriculture Organization](www.fao.org) (FAO) of the United Nation's AQUASTAT dataset. \n",
    "\n",
    "From FAO: \n",
    "\n",
    "FAO's three main goals are:\n",
    "1. The eradication of hunger, food insecurity and malnutrition\n",
    "2. The elimination of poverty and the driving forward of economic and social progress for all\n",
    "3. The sustainable management and utilization of natural resources, including land, water, air, climate and genetic resources for the benefit of present and future generations. \n",
    "\n",
    "To support these goals, Article 1 of its constitution requires FAO to \"collect, analyse, interpret and disseminate information related to nutrition, food and agriculture\". Thus AQUASTAT started, with the aim to contribute to FAO's goals through the collection, analysis and dissemination of information related to water resources, water uses and agricultural water management, with an emphasis on countries in Africa, Asia, Latin America, and the Caribbean.\n",
    "\n",
    "FAO offers data, metadata, reports, country profiles, river basin profiles, regional analyses, maps, tables, spatial data, guidelines, and other tools on:\n",
    "* Water resources: internal, transboundary, total\n",
    "* Water uses: by sector, by source, wastewater\n",
    "* Irrigation: location, area, typology, technology, crops\n",
    "* Dams: location, height, capacity, surface area\n",
    "* Water-related institutions, policies and legistation"
   ]
  },
  {
   "cell_type": "markdown",
   "metadata": {},
   "source": [
    "http://www.fao.org/nr/water/aquastat/data/query/index.html"
   ]
  },
  {
   "cell_type": "markdown",
   "metadata": {},
   "source": [
    "# Question: *Is water availability and water use related to GDP per capita?* "
   ]
  },
  {
   "cell_type": "markdown",
   "metadata": {},
   "source": [
    "# Our plan\n",
    "\n",
    "<img src=\"figures/branches.jpg\" alt=\"Crisp-DM\" width=\"390\" align=\"right\">\n",
    "Exploratory data analysis consists of the following major tasks, which we present linearly here because each task doesn't make much sense to do without the ones prior to it. However, in reality, you are going to constantly jump around from step to step.  You may want to do all the steps for a subset of the variables first. Or often, an observation will bring up a question you want to investigate and you'll branch off and explore to answer that question before returning down the main path of exhaustive EDA.\n",
    "\n",
    "1. **Form hypotheses/develop investigation themes to explore** \n",
    "3. **Wrangle data** \n",
    "3. Assess quality of data \n",
    "4. Profile data \n",
    "5. Explore each individual variable in the dataset \n",
    "6. Assess the relationship between each variable and the target \n",
    "7. Assess interactions between variables \n",
    "8. Explore data across many dimensions \n",
    "\n",
    "Throughout the entire analysis you want to:\n",
    "* Capture a list of hypotheses and questions that come up for further exploration.\n",
    "* Record things to watch out for/ be aware of in future analyses. \n",
    "* Show intermediate results to colleagues to get a fresh perspective, feedback, domain knowledge. Don't do EDA in a bubble! Get feedback throughout especially from people removed from the problem and/or with relevant domain knowledge. \n",
    "* Position visuals and results together. EDA relies on your natural pattern recognition abilities so maximize what you'll find by putting visualizations and results in close proximity. \n"
   ]
  },
  {
   "cell_type": "markdown",
   "metadata": {},
   "source": [
    "# **To do**: Develop investigation themes for exploration"
   ]
  },
  {
   "cell_type": "markdown",
   "metadata": {},
   "source": [
    "Write down hypotheses, things you need to find out to answer the question."
   ]
  },
  {
   "cell_type": "markdown",
   "metadata": {},
   "source": [
    "# Wrangle"
   ]
  },
  {
   "cell_type": "markdown",
   "metadata": {},
   "source": [
    "## Things to consider doing \n",
    "\n",
    "**Make your data [tidy](https://tomaugspurger.github.io/modern-5-tidy.html)**\n",
    "1. Each variable forms a column\n",
    "2. Each observation forms a row\n",
    "3. Each type of observational unit forms a table\n",
    "\n",
    "**Transform data**  \n",
    "Sometimes you will need to transform your data to be able to extract information from it. This step will usually occur after some of the other steps of EDA unless domain knowledge can inform these choices beforehand. Transforms include:  \n",
    "\n",
    "* Log: when data is highly skewed (versus normally distributed like a bell curve), sometimes it has a log-normal distribution and taking the log of each data point will normalize it. \n",
    "* Binning of continuous variables: Binning continuous variables and then analyzing the groups of observations created can allow for easier pattern identification. Especially with non-linear relationships. \n",
    "* Simplifying of categories: you really don't want more than 8-10 categories within a single data field. Try to aggregate to higher-level categories when it makes sense. \n"
   ]
  },
  {
   "cell_type": "markdown",
   "metadata": {},
   "source": [
    "## Load the data "
   ]
  },
  {
   "cell_type": "code",
   "execution_count": null,
   "metadata": {
    "ExecuteTime": {
     "end_time": "2017-05-17T06:17:05.955527Z",
     "start_time": "2017-05-17T06:17:05.579613Z"
    },
    "collapsed": true,
    "run_control": {
     "frozen": false,
     "read_only": false
    }
   },
   "outputs": [],
   "source": [
    "data = pd.read_csv('../data/aquastat/aquastat.csv.gzip', compression='gzip')"
   ]
  },
  {
   "cell_type": "code",
   "execution_count": null,
   "metadata": {
    "ExecuteTime": {
     "end_time": "2017-05-17T06:17:05.970835Z",
     "start_time": "2017-05-17T06:17:05.957105Z"
    },
    "run_control": {
     "frozen": false,
     "read_only": false
    }
   },
   "outputs": [],
   "source": [
    "data.head()"
   ]
  },
  {
   "cell_type": "code",
   "execution_count": null,
   "metadata": {
    "ExecuteTime": {
     "end_time": "2017-05-17T06:17:06.027491Z",
     "start_time": "2017-05-17T06:17:05.972245Z"
    },
    "run_control": {
     "frozen": false,
     "read_only": false
    }
   },
   "outputs": [],
   "source": [
    "data.info()"
   ]
  },
  {
   "cell_type": "markdown",
   "metadata": {},
   "source": [
    "## Research the variables"
   ]
  },
  {
   "cell_type": "code",
   "execution_count": null,
   "metadata": {
    "ExecuteTime": {
     "end_time": "2017-05-17T06:17:06.068136Z",
     "start_time": "2017-05-17T06:17:06.029210Z"
    },
    "run_control": {
     "frozen": false,
     "read_only": false
    },
    "scrolled": true
   },
   "outputs": [],
   "source": [
    "data[['variable','variable_full']].drop_duplicates()"
   ]
  },
  {
   "cell_type": "markdown",
   "metadata": {},
   "source": [
    "## Describe the panel"
   ]
  },
  {
   "cell_type": "markdown",
   "metadata": {},
   "source": [
    "199 unique countries involved"
   ]
  },
  {
   "cell_type": "code",
   "execution_count": null,
   "metadata": {
    "ExecuteTime": {
     "end_time": "2017-05-17T06:17:06.080833Z",
     "start_time": "2017-05-17T06:17:06.069639Z"
    },
    "run_control": {
     "frozen": false,
     "read_only": false
    }
   },
   "outputs": [],
   "source": [
    "data.country.nunique()"
   ]
  },
  {
   "cell_type": "code",
   "execution_count": null,
   "metadata": {
    "ExecuteTime": {
     "end_time": "2017-05-17T06:17:06.090211Z",
     "start_time": "2017-05-17T06:17:06.082405Z"
    },
    "collapsed": true,
    "run_control": {
     "frozen": false,
     "read_only": false
    }
   },
   "outputs": [],
   "source": [
    "countries = data.country.unique()"
   ]
  },
  {
   "cell_type": "markdown",
   "metadata": {},
   "source": [
    "For 12 time periods"
   ]
  },
  {
   "cell_type": "code",
   "execution_count": null,
   "metadata": {
    "ExecuteTime": {
     "end_time": "2017-05-17T06:17:06.101566Z",
     "start_time": "2017-05-17T06:17:06.091712Z"
    },
    "run_control": {
     "frozen": false,
     "read_only": false
    }
   },
   "outputs": [],
   "source": [
    "data.time_period.nunique()"
   ]
  },
  {
   "cell_type": "markdown",
   "metadata": {},
   "source": [
    "Each 5 years in length since 1958"
   ]
  },
  {
   "cell_type": "code",
   "execution_count": null,
   "metadata": {
    "ExecuteTime": {
     "end_time": "2017-05-17T06:17:06.111309Z",
     "start_time": "2017-05-17T06:17:06.102838Z"
    },
    "run_control": {
     "frozen": false,
     "read_only": false
    }
   },
   "outputs": [],
   "source": [
    "time_periods = data.time_period.unique()\n",
    "print(time_periods)"
   ]
  },
  {
   "cell_type": "code",
   "execution_count": null,
   "metadata": {
    "ExecuteTime": {
     "end_time": "2017-05-17T06:17:06.115292Z",
     "start_time": "2017-05-17T06:17:06.112683Z"
    },
    "collapsed": true,
    "run_control": {
     "frozen": false,
     "read_only": false
    }
   },
   "outputs": [],
   "source": [
    "mid_periods = range(1960,2017,5)"
   ]
  },
  {
   "cell_type": "markdown",
   "metadata": {},
   "source": [
    "Dataset is unbalanced because there is not data for every country at every time period (more on missing data in the next notebook)."
   ]
  },
  {
   "cell_type": "code",
   "execution_count": null,
   "metadata": {
    "ExecuteTime": {
     "end_time": "2017-05-17T06:17:06.134750Z",
     "start_time": "2017-05-17T06:17:06.116703Z"
    },
    "run_control": {
     "frozen": false,
     "read_only": false
    }
   },
   "outputs": [],
   "source": [
    "data[data.variable=='total_area'].value.isnull().sum()"
   ]
  },
  {
   "cell_type": "markdown",
   "metadata": {},
   "source": [
    "## Ways to look at this data"
   ]
  },
  {
   "cell_type": "markdown",
   "metadata": {},
   "source": [
    "We can look at this data set in a number of ways: \n",
    "* Cross-section: all countries during a single time period\n",
    "* Time-series: a single country over time \n",
    "* Panel data: all countries over time (as data is given)\n",
    "* Geospatial: all countries in geographical relation to each other "
   ]
  },
  {
   "cell_type": "markdown",
   "metadata": {},
   "source": [
    "## Slicing"
   ]
  },
  {
   "cell_type": "markdown",
   "metadata": {},
   "source": [
    "### For a given time slice"
   ]
  },
  {
   "cell_type": "code",
   "execution_count": null,
   "metadata": {
    "ExecuteTime": {
     "end_time": "2017-05-17T06:17:06.144976Z",
     "start_time": "2017-05-17T06:17:06.137085Z"
    },
    "collapsed": true,
    "run_control": {
     "frozen": false,
     "read_only": false
    }
   },
   "outputs": [],
   "source": [
    "def time_slice(df, time_period):\n",
    "\n",
    "    # Only take data for time period of interest\n",
    "    df = df[df.time_period==time_period] \n",
    "\n",
    "    # Pivot table \n",
    "    df = df.pivot(index='country', columns='variable', values='value')\n",
    "    \n",
    "    df.columns.name = time_period\n",
    "    \n",
    "    return df"
   ]
  },
  {
   "cell_type": "code",
   "execution_count": null,
   "metadata": {
    "ExecuteTime": {
     "end_time": "2017-05-17T06:17:06.193868Z",
     "start_time": "2017-05-17T06:17:06.146715Z"
    },
    "run_control": {
     "frozen": false,
     "read_only": false
    }
   },
   "outputs": [],
   "source": [
    "time_slice(data, time_periods[0]).head()"
   ]
  },
  {
   "cell_type": "markdown",
   "metadata": {},
   "source": [
    "### For a given country"
   ]
  },
  {
   "cell_type": "code",
   "execution_count": null,
   "metadata": {
    "ExecuteTime": {
     "end_time": "2017-05-17T06:17:06.204751Z",
     "start_time": "2017-05-17T06:17:06.195772Z"
    },
    "collapsed": true,
    "run_control": {
     "frozen": false,
     "read_only": false
    }
   },
   "outputs": [],
   "source": [
    "def country_slice(df, country):\n",
    "    \n",
    "    # Only take data for country of interest\n",
    "    df = df[df.country==country] \n",
    "\n",
    "    # Pivot table \n",
    "    df = df.pivot(index='variable', columns='time_period', values='value')\n",
    "    \n",
    "    df.index.name = country\n",
    "    return df\n",
    "    "
   ]
  },
  {
   "cell_type": "code",
   "execution_count": null,
   "metadata": {
    "ExecuteTime": {
     "end_time": "2017-05-17T06:17:06.240451Z",
     "start_time": "2017-05-17T06:17:06.206381Z"
    },
    "run_control": {
     "frozen": false,
     "read_only": false
    }
   },
   "outputs": [],
   "source": [
    "country_slice(data, countries[40]).head()"
   ]
  },
  {
   "cell_type": "markdown",
   "metadata": {},
   "source": [
    "### By variable"
   ]
  },
  {
   "cell_type": "code",
   "execution_count": null,
   "metadata": {
    "ExecuteTime": {
     "end_time": "2017-05-17T06:17:06.247687Z",
     "start_time": "2017-05-17T06:17:06.242325Z"
    },
    "collapsed": true,
    "run_control": {
     "frozen": false,
     "read_only": false
    }
   },
   "outputs": [],
   "source": [
    "def variable_slice(df, variable):\n",
    "    \n",
    "    # Only data for that variable\n",
    "    df = df[df.variable==variable]\n",
    "    \n",
    "    # Get variable for each country over the time periods \n",
    "    df = df.pivot(index='country', columns='time_period', values='value')\n",
    "    return df"
   ]
  },
  {
   "cell_type": "code",
   "execution_count": null,
   "metadata": {
    "ExecuteTime": {
     "end_time": "2017-05-17T06:17:06.282888Z",
     "start_time": "2017-05-17T06:17:06.249145Z"
    },
    "run_control": {
     "frozen": false,
     "read_only": false
    }
   },
   "outputs": [],
   "source": [
    "variable_slice(data, 'total_pop').head()"
   ]
  },
  {
   "cell_type": "markdown",
   "metadata": {},
   "source": [
    "### Time series for given country and variable"
   ]
  },
  {
   "cell_type": "code",
   "execution_count": null,
   "metadata": {
    "ExecuteTime": {
     "end_time": "2017-05-17T06:17:06.295146Z",
     "start_time": "2017-05-17T06:17:06.284435Z"
    },
    "collapsed": true,
    "run_control": {
     "frozen": false,
     "read_only": false
    }
   },
   "outputs": [],
   "source": [
    "def time_series(df, country, variable):\n",
    "    \n",
    "    # Only take data for country/variable combo \n",
    "    series = df[(df.country==country) & (df.variable==variable)]\n",
    "    \n",
    "    # Drop years with no data \n",
    "    series = series.dropna()[['year_measured', 'value']]\n",
    "    \n",
    "    # Change years to int and set as index \n",
    "    series.year_measured = series.year_measured.astype(int)\n",
    "    series.set_index('year_measured', inplace=True)\n",
    "    series.columns = [variable]\n",
    "    return series"
   ]
  },
  {
   "cell_type": "code",
   "execution_count": null,
   "metadata": {
    "ExecuteTime": {
     "end_time": "2017-05-17T06:17:06.368465Z",
     "start_time": "2017-05-17T06:17:06.296894Z"
    },
    "run_control": {
     "frozen": false,
     "read_only": false
    }
   },
   "outputs": [],
   "source": [
    "time_series(data, 'Belarus', 'total_pop')"
   ]
  },
  {
   "cell_type": "markdown",
   "metadata": {},
   "source": [
    "## By region"
   ]
  },
  {
   "cell_type": "markdown",
   "metadata": {},
   "source": [
    "We may want to look at subsets of the data for certain assessments. Region is an intuitive way to subdivide the data. "
   ]
  },
  {
   "cell_type": "code",
   "execution_count": null,
   "metadata": {
    "ExecuteTime": {
     "end_time": "2017-05-17T06:17:06.378576Z",
     "start_time": "2017-05-17T06:17:06.369988Z"
    },
    "run_control": {
     "frozen": false,
     "read_only": false
    }
   },
   "outputs": [],
   "source": [
    "data.region.unique()"
   ]
  },
  {
   "cell_type": "markdown",
   "metadata": {},
   "source": [
    "Reducing the number of regions will help for pattern assessment. "
   ]
  },
  {
   "cell_type": "markdown",
   "metadata": {},
   "source": [
    "Create a dictionary to look up new, more simple region (Asia, North America, South America, Africa, Europe, Oceania)"
   ]
  },
  {
   "cell_type": "code",
   "execution_count": null,
   "metadata": {
    "ExecuteTime": {
     "end_time": "2017-05-17T06:17:06.385035Z",
     "start_time": "2017-05-17T06:17:06.379952Z"
    },
    "collapsed": true,
    "run_control": {
     "frozen": false,
     "read_only": false
    }
   },
   "outputs": [],
   "source": [
    "simple_regions ={\n",
    "    'World | Asia':'Asia',\n",
    "    'Americas | Central America and Caribbean | Central America': 'North America',\n",
    "    'Americas | Central America and Caribbean | Greater Antilles': 'North America',\n",
    "    'Americas | Central America and Caribbean | Lesser Antilles and Bahamas': 'North America',\n",
    "    'Americas | Northern America | Northern America': 'North America',\n",
    "    'Americas | Northern America | Mexico': 'North America',\n",
    "    'Americas | Southern America | Guyana':'South America',\n",
    "    'Americas | Southern America | Andean':'South America',\n",
    "    'Americas | Southern America | Brazil':'South America',\n",
    "    'Americas | Southern America | Southern America':'South America', \n",
    "    'World | Africa':'Africa',\n",
    "    'World | Europe':'Europe', \n",
    "    'World | Oceania':'Oceania'\n",
    "}"
   ]
  },
  {
   "cell_type": "code",
   "execution_count": null,
   "metadata": {
    "ExecuteTime": {
     "end_time": "2017-05-17T06:17:06.425067Z",
     "start_time": "2017-05-17T06:17:06.386523Z"
    },
    "collapsed": true,
    "run_control": {
     "frozen": false,
     "read_only": false
    }
   },
   "outputs": [],
   "source": [
    "data.region = data.region.apply(lambda x: simple_regions[x])"
   ]
  },
  {
   "cell_type": "code",
   "execution_count": null,
   "metadata": {
    "ExecuteTime": {
     "end_time": "2017-05-17T06:17:06.436800Z",
     "start_time": "2017-05-17T06:17:06.426628Z"
    },
    "run_control": {
     "frozen": false,
     "read_only": false
    }
   },
   "outputs": [],
   "source": [
    "print(data.region.unique())"
   ]
  },
  {
   "cell_type": "markdown",
   "metadata": {},
   "source": [
    "Function for extracting a single region:"
   ]
  },
  {
   "cell_type": "code",
   "execution_count": null,
   "metadata": {
    "ExecuteTime": {
     "end_time": "2017-05-17T06:17:06.443056Z",
     "start_time": "2017-05-17T06:17:06.438983Z"
    },
    "collapsed": true,
    "run_control": {
     "frozen": false,
     "read_only": false
    }
   },
   "outputs": [],
   "source": [
    "def subregion(data, region):\n",
    "    return data[data.region==region]"
   ]
  },
  {
   "cell_type": "markdown",
   "metadata": {},
   "source": [
    "**Note:** The functions created in this notebook and the others can also be found in `scripts/aqua_helper.py` so that they can be reused in following notebooks without redefinition. "
   ]
  },
  {
   "cell_type": "markdown",
   "metadata": {},
   "source": [
    "## Exercises\n",
    "* Create a dataframe containing each variable for every country for the time period of 1963-1967.\n",
    "* Create a dataframe containing the total renewable surface water for each country over each time period. \n",
    "* Create a dataframe containing the total population of each country in Asia over each time period. "
   ]
  },
  {
   "cell_type": "markdown",
   "metadata": {},
   "source": [
    "# **To do**: Update investigation themes "
   ]
  },
  {
   "cell_type": "markdown",
   "metadata": {},
   "source": [
    "<center><p style=\"text-align:center;font-size:160%\">© <a href=\"http://www.svds.com\">2017 Silicon Valley Data Science LLC</a></p></center>"
   ]
  }
 ],
 "metadata": {
  "kernelspec": {
   "display_name": "Python 3",
   "language": "python",
   "name": "python3"
  },
  "language_info": {
   "codemirror_mode": {
    "name": "ipython",
    "version": 3
   },
   "file_extension": ".py",
   "mimetype": "text/x-python",
   "name": "python",
   "nbconvert_exporter": "python",
   "pygments_lexer": "ipython3",
   "version": "3.6.1"
  },
  "nav_menu": {},
  "toc": {
   "navigate_menu": true,
   "number_sections": true,
   "sideBar": true,
   "threshold": 6,
   "toc_cell": true,
   "toc_section_display": "block",
   "toc_window_display": false
  }
 },
 "nbformat": 4,
 "nbformat_minor": 2
}
