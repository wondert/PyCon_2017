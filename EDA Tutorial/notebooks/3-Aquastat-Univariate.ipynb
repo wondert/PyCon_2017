{
 "cells": [
  {
   "cell_type": "markdown",
   "metadata": {
    "toc": "true"
   },
   "source": [
    "# Table of Contents\n",
    " <p><div class=\"lev1\"><a href=\"#Our-plan\"><span class=\"toc-item-num\">1&nbsp;&nbsp;</span>Our plan</a></div><div class=\"lev1\"><a href=\"#Data-wrangling\"><span class=\"toc-item-num\">2&nbsp;&nbsp;</span>Data wrangling</a></div><div class=\"lev1\"><a href=\"#Exploring-population\"><span class=\"toc-item-num\">3&nbsp;&nbsp;</span>Exploring <em>population</em></a></div><div class=\"lev2\"><a href=\"#Cross-section\"><span class=\"toc-item-num\">3.1&nbsp;&nbsp;</span>Cross-section</a></div><div class=\"lev3\"><a href=\"#Location-and-spread-of-the-data\"><span class=\"toc-item-num\">3.1.1&nbsp;&nbsp;</span>Location and spread of the data</a></div><div class=\"lev3\"><a href=\"#Shape-of-the-data\"><span class=\"toc-item-num\">3.1.2&nbsp;&nbsp;</span>Shape of the data</a></div><div class=\"lev3\"><a href=\"#Skewness-and-kurtosis\"><span class=\"toc-item-num\">3.1.3&nbsp;&nbsp;</span><a href=\"http://www.itl.nist.gov/div898/handbook/eda/section3/eda35b.htm\" target=\"_blank\">Skewness and kurtosis</a></a></div><div class=\"lev3\"><a href=\"#The-trusty-histogram\"><span class=\"toc-item-num\">3.1.4&nbsp;&nbsp;</span>The trusty histogram</a></div><div class=\"lev3\"><a href=\"#Log-transform\"><span class=\"toc-item-num\">3.1.5&nbsp;&nbsp;</span>Log transform</a></div><div class=\"lev3\"><a href=\"#Normalization\"><span class=\"toc-item-num\">3.1.6&nbsp;&nbsp;</span>Normalization</a></div><div class=\"lev2\"><a href=\"#Over-time\"><span class=\"toc-item-num\">3.2&nbsp;&nbsp;</span>Over time</a></div><div class=\"lev3\"><a href=\"#One-country\"><span class=\"toc-item-num\">3.2.1&nbsp;&nbsp;</span>One country</a></div><div class=\"lev3\"><a href=\"#One-region\"><span class=\"toc-item-num\">3.2.2&nbsp;&nbsp;</span>One region</a></div><div class=\"lev2\"><a href=\"#Geospatial-over-time-(Interactive-widgets)\"><span class=\"toc-item-num\">3.3&nbsp;&nbsp;</span>Geospatial over time (Interactive widgets)</a></div><div class=\"lev2\"><a href=\"#Note-on-exploratory-geospatial-data-analysis\"><span class=\"toc-item-num\">3.4&nbsp;&nbsp;</span>Note on exploratory geospatial data analysis</a></div><div class=\"lev2\"><a href=\"#To-do:-Record-questions-that-came-up-during-the-exploration\"><span class=\"toc-item-num\">3.5&nbsp;&nbsp;</span><strong>To do</strong>: Record questions that came up during the exploration</a></div><div class=\"lev1\"><a href=\"#To-do:-Perform-univariate-analysis-on-an-additional-variable.\"><span class=\"toc-item-num\">4&nbsp;&nbsp;</span><strong>To do</strong>: Perform univariate analysis on an additional variable.</a></div><div class=\"lev1\"><a href=\"#Extras\"><span class=\"toc-item-num\">5&nbsp;&nbsp;</span>Extras</a></div><div class=\"lev2\"><a href=\"#Exploring-total-renewable-water-resources\"><span class=\"toc-item-num\">5.1&nbsp;&nbsp;</span>Exploring <em>total renewable water resources</em></a></div><div class=\"lev2\"><a href=\"#Assessing-many-variables\"><span class=\"toc-item-num\">5.2&nbsp;&nbsp;</span>Assessing many variables</a></div>"
   ]
  },
  {
   "cell_type": "code",
   "execution_count": null,
   "metadata": {
    "ExecuteTime": {
     "end_time": "2017-05-17T06:21:09.856755Z",
     "start_time": "2017-05-17T06:21:08.167712Z"
    },
    "collapsed": true
   },
   "outputs": [],
   "source": [
    "# must go first \n",
    "%matplotlib inline \n",
    "%config InlineBackend.figure_format='retina'\n",
    "\n",
    "# plotting\n",
    "import matplotlib as mpl\n",
    "from matplotlib import pyplot as plt\n",
    "import seaborn as sns\n",
    "sns.set_context(\"poster\", font_scale=1.3)\n",
    "import folium\n",
    "\n",
    "# system packages \n",
    "import os, sys\n",
    "import warnings\n",
    "warnings.filterwarnings('ignore')\n",
    "\n",
    "# basic wrangling \n",
    "import numpy as np\n",
    "import pandas as pd\n",
    "\n",
    "# eda tools \n",
    "import pivottablejs\n",
    "import missingno as msno\n",
    "import pandas_profiling\n",
    "\n",
    "# interactive \n",
    "import ipywidgets as widgets\n",
    "\n",
    "# more technical eda\n",
    "import sklearn\n",
    "import scipy"
   ]
  },
  {
   "cell_type": "code",
   "execution_count": null,
   "metadata": {
    "ExecuteTime": {
     "end_time": "2017-05-17T06:21:09.860891Z",
     "start_time": "2017-05-17T06:21:09.858249Z"
    },
    "collapsed": true,
    "run_control": {
     "frozen": false,
     "read_only": false
    }
   },
   "outputs": [],
   "source": [
    "sys.path.append('../scripts/')"
   ]
  },
  {
   "cell_type": "code",
   "execution_count": null,
   "metadata": {
    "ExecuteTime": {
     "end_time": "2017-05-17T06:21:09.867039Z",
     "start_time": "2017-05-17T06:21:09.862761Z"
    },
    "collapsed": true,
    "run_control": {
     "frozen": false,
     "read_only": false
    }
   },
   "outputs": [],
   "source": [
    "from aqua_helper import time_slice, country_slice, time_series, simple_regions, subregion, variable_slice"
   ]
  },
  {
   "cell_type": "code",
   "execution_count": null,
   "metadata": {
    "ExecuteTime": {
     "end_time": "2017-05-17T06:21:09.874900Z",
     "start_time": "2017-05-17T06:21:09.868408Z"
    },
    "collapsed": true,
    "run_control": {
     "frozen": false,
     "read_only": false
    }
   },
   "outputs": [],
   "source": [
    "mpl_update = {'font.size':16,\n",
    "              'xtick.labelsize':14,\n",
    "              'ytick.labelsize':14,\n",
    "              'figure.figsize':[12.0,8.0],\n",
    "              'axes.color_cycle':['#0055A7', '#2C3E4F', '#26C5ED', '#00cc66', '#D34100', '#FF9700','#091D32'], \n",
    "              'axes.labelsize':16,\n",
    "              'axes.labelcolor':'#677385',\n",
    "              'axes.titlesize':20,\n",
    "              'lines.color':'#0055A7',\n",
    "              'lines.linewidth':3,\n",
    "              'text.color':'#677385'}\n",
    "mpl.rcParams.update(mpl_update)"
   ]
  },
  {
   "cell_type": "markdown",
   "metadata": {},
   "source": [
    "# Our plan\n",
    "\n",
    "<img src=\"figures/branches.jpg\" alt=\"Crisp-DM\" width=\"390\" align=\"right\">\n",
    "Exploratory data analysis consists of the following major tasks, which we present linearly here because each task doesn't make much sense to do without the ones prior to it. However, in reality, you are going to constantly jump around from step to step.  You may want to do all the steps for a subset of the variables first. Or often, an observation will bring up a question you want to investigate and you'll branch off and explore to answer that question before returning down the main path of exhaustive EDA.\n",
    "\n",
    "1. Form hypotheses/develop investigation themes to explore \n",
    "3. Wrangle data \n",
    "3. Assess quality of data \n",
    "4. Profile data\n",
    "5. **Explore each individual variable in the dataset** \n",
    "6. Assess the relationship between each variable and the target \n",
    "7. Assess interactions between variables \n",
    "8. Explore data across many dimensions \n",
    "\n",
    "Throughout the entire analysis you want to:\n",
    "* Capture a list of hypotheses and questions that come up for further exploration.\n",
    "* Record things to watch out for/ be aware of in future analyses. \n",
    "* Show intermediate results to colleagues to get a fresh perspective, feedback, domain knowledge. Don't do EDA in a bubble! Get feedback throughout especially from people removed from the problem and/or with relevant domain knowledge. \n",
    "* Position visuals and results together. EDA relies on your natural pattern recognition abilities so maximize what you'll find by putting visualizations and results in close proximity. \n"
   ]
  },
  {
   "cell_type": "markdown",
   "metadata": {},
   "source": [
    "# Data wrangling "
   ]
  },
  {
   "cell_type": "markdown",
   "metadata": {},
   "source": [
    "http://www.fao.org/nr/water/aquastat/data/query/index.html"
   ]
  },
  {
   "cell_type": "code",
   "execution_count": null,
   "metadata": {
    "ExecuteTime": {
     "end_time": "2017-05-17T06:21:10.396887Z",
     "start_time": "2017-05-17T06:21:09.876485Z"
    },
    "collapsed": true
   },
   "outputs": [],
   "source": [
    "data = pd.read_csv('../data/aquastat/aquastat.csv.gzip', compression='gzip')\n",
    "\n",
    "# simplify regions\n",
    "data.region = data.region.apply(lambda x: simple_regions[x])\n",
    "\n",
    "# remove exploitable fields and national rainfall index\n",
    "data = data.loc[~data.variable.str.contains('exploitable'),:]\n",
    "data = data.loc[~(data.variable=='national_rainfall_index')]"
   ]
  },
  {
   "cell_type": "markdown",
   "metadata": {},
   "source": [
    "Overview of variables"
   ]
  },
  {
   "cell_type": "code",
   "execution_count": null,
   "metadata": {
    "ExecuteTime": {
     "end_time": "2017-05-17T06:21:10.427478Z",
     "start_time": "2017-05-17T06:21:10.398316Z"
    },
    "run_control": {
     "frozen": false,
     "read_only": false
    },
    "scrolled": true
   },
   "outputs": [],
   "source": [
    "data[['variable','variable_full']].drop_duplicates()"
   ]
  },
  {
   "cell_type": "markdown",
   "metadata": {},
   "source": [
    "Subset for cross-sectional analysis"
   ]
  },
  {
   "cell_type": "code",
   "execution_count": null,
   "metadata": {
    "ExecuteTime": {
     "end_time": "2017-05-17T06:21:10.457612Z",
     "start_time": "2017-05-17T06:21:10.429311Z"
    },
    "collapsed": true
   },
   "outputs": [],
   "source": [
    "recent = time_slice(data, '2013-2017')"
   ]
  },
  {
   "cell_type": "markdown",
   "metadata": {},
   "source": [
    "# Exploring *population*"
   ]
  },
  {
   "cell_type": "markdown",
   "metadata": {},
   "source": [
    "## Cross-section\n",
    "For numerical data, look at: \n",
    "\n",
    "* *Location*: mean, median, mode, interquartile mean \n",
    "* *Spread*: standard deviation, variance, range, interquartile range\n",
    "* *Shape*: skewness, kurtosis "
   ]
  },
  {
   "cell_type": "markdown",
   "metadata": {},
   "source": [
    "### Location and spread of the data\n",
    "\n",
    "Are minimum/maximum values feasible? "
   ]
  },
  {
   "cell_type": "code",
   "execution_count": null,
   "metadata": {
    "ExecuteTime": {
     "end_time": "2017-05-17T06:21:10.474794Z",
     "start_time": "2017-05-17T06:21:10.459146Z"
    },
    "run_control": {
     "frozen": false,
     "read_only": false
    }
   },
   "outputs": [],
   "source": [
    "recent[['total_pop', 'urban_pop', 'rural_pop']].describe().astype(int)"
   ]
  },
  {
   "cell_type": "markdown",
   "metadata": {},
   "source": [
    "Rural population is negative... what does that mean? "
   ]
  },
  {
   "cell_type": "code",
   "execution_count": null,
   "metadata": {
    "ExecuteTime": {
     "end_time": "2017-05-17T06:21:10.485255Z",
     "start_time": "2017-05-17T06:21:10.476454Z"
    },
    "run_control": {
     "frozen": false,
     "read_only": false
    }
   },
   "outputs": [],
   "source": [
    "recent.sort_values('rural_pop')[['total_pop','urban_pop','rural_pop']].head()"
   ]
  },
  {
   "cell_type": "markdown",
   "metadata": {},
   "source": [
    "Visit glossary for dataset: http://www.fao.org/nr/water/aquastat/data/glossary/search.html?termId=4105&submitBtn=s&cls=yes"
   ]
  },
  {
   "cell_type": "markdown",
   "metadata": {},
   "source": [
    "`Rural population = Total population - urban population`"
   ]
  },
  {
   "cell_type": "code",
   "execution_count": null,
   "metadata": {
    "ExecuteTime": {
     "end_time": "2017-05-17T06:21:10.682425Z",
     "start_time": "2017-05-17T06:21:10.486495Z"
    },
    "run_control": {
     "frozen": false,
     "read_only": false
    }
   },
   "outputs": [],
   "source": [
    "time_series(data, 'Qatar', 'total_pop').join(time_series(data, 'Qatar', 'urban_pop')).join(time_series(data, 'Qatar', 'rural_pop'))"
   ]
  },
  {
   "cell_type": "markdown",
   "metadata": {},
   "source": [
    "What to do about non-physical numbers? Remove? Replace with estimates from other sources like the world bank? \n",
    "--> Need to have a clear thought out reason for what you decide to do"
   ]
  },
  {
   "cell_type": "markdown",
   "metadata": {},
   "source": [
    "We should also start suspecting that the data is skewed:\n",
    "* 50% quartile much closer to 25% or 75% in value\n",
    "* Large difference between mean and 50% "
   ]
  },
  {
   "cell_type": "markdown",
   "metadata": {},
   "source": [
    "### Shape of the data\n",
    "* Is the distribution skewed? Bimodal? \n",
    "* Are there outliers? Are they feasible? \n",
    "* Are there discontinuities? "
   ]
  },
  {
   "cell_type": "code",
   "execution_count": null,
   "metadata": {
    "ExecuteTime": {
     "end_time": "2017-05-17T06:21:10.701445Z",
     "start_time": "2017-05-17T06:21:10.683831Z"
    },
    "run_control": {
     "frozen": false,
     "read_only": false
    }
   },
   "outputs": [],
   "source": [
    "recent[['total_pop', 'urban_pop', 'rural_pop']].describe().astype(int)"
   ]
  },
  {
   "cell_type": "markdown",
   "metadata": {},
   "source": [
    "Yes, it looks like population is skewed. Let's try calculting skewness and kurtosis and plot a histogram to visualize."
   ]
  },
  {
   "cell_type": "markdown",
   "metadata": {},
   "source": [
    "### [Skewness and kurtosis](http://www.itl.nist.gov/div898/handbook/eda/section3/eda35b.htm)\n",
    "\n",
    "*Skewness:* measure of lack of symmetry. \n",
    "\n",
    "*Kurtosis:* measure of whether the data are heavily tailed relative to the normal distribution. "
   ]
  },
  {
   "cell_type": "code",
   "execution_count": null,
   "metadata": {
    "ExecuteTime": {
     "end_time": "2017-05-17T06:21:10.710839Z",
     "start_time": "2017-05-17T06:21:10.703256Z"
    }
   },
   "outputs": [],
   "source": [
    "recent[['total_pop', 'urban_pop', 'rural_pop']].apply(scipy.stats.skew)"
   ]
  },
  {
   "cell_type": "markdown",
   "metadata": {},
   "source": [
    "Skewness for normal distribution should be zero. Negative skewness indicates skew left and positive skewness indicates skew right. "
   ]
  },
  {
   "cell_type": "code",
   "execution_count": null,
   "metadata": {
    "ExecuteTime": {
     "end_time": "2017-05-17T06:21:10.719683Z",
     "start_time": "2017-05-17T06:21:10.712397Z"
    }
   },
   "outputs": [],
   "source": [
    "recent[['total_pop', 'urban_pop', 'rural_pop']].apply(scipy.stats.kurtosis)"
   ]
  },
  {
   "cell_type": "markdown",
   "metadata": {},
   "source": [
    "Kurtosis is also zero for a normal distribution and can only be postiive. We definitely have some outliers! "
   ]
  },
  {
   "cell_type": "markdown",
   "metadata": {},
   "source": [
    "### The trusty histogram"
   ]
  },
  {
   "cell_type": "code",
   "execution_count": null,
   "metadata": {
    "ExecuteTime": {
     "end_time": "2017-05-17T06:21:11.459763Z",
     "start_time": "2017-05-17T06:21:10.721621Z"
    },
    "run_control": {
     "frozen": false,
     "read_only": false
    }
   },
   "outputs": [],
   "source": [
    "fig, ax = plt.subplots(figsize=(12, 8))\n",
    "ax.hist(recent.total_pop.values, bins=50);\n",
    "ax.set_xlabel('Total population');\n",
    "ax.set_ylabel('Number of countries');\n",
    "ax.set_title('Distribution of population of countries 2013-2017');"
   ]
  },
  {
   "cell_type": "markdown",
   "metadata": {},
   "source": [
    "Let's functionalize this so we can use it again."
   ]
  },
  {
   "cell_type": "markdown",
   "metadata": {},
   "source": [
    "Yup, definitely skewed. Why is this a problem?\n",
    "* Many models assume a normal (bell-like) curve\n",
    "* It is difficult to differentiate observations when skewed (~150/199 look all the same!) \n",
    "\n",
    "Let's look at a map:"
   ]
  },
  {
   "cell_type": "code",
   "execution_count": null,
   "metadata": {
    "ExecuteTime": {
     "end_time": "2017-05-17T06:21:11.477689Z",
     "start_time": "2017-05-17T06:21:11.461318Z"
    },
    "collapsed": true,
    "run_control": {
     "frozen": false,
     "read_only": false
    }
   },
   "outputs": [],
   "source": [
    "# Extending the code we used for plotting nulls geospatially\n",
    "def plot_map(df, variable, time_period=None, log=False, \n",
    "             legend_name=None, threshold_scale=None):\n",
    "    geo = r'../data/aquastat/world.json'\n",
    "    \n",
    "    legend_name = legend_name if legend_name else '%s for %s' % (variable, time_period)\n",
    "    if time_period:\n",
    "        df = time_slice(df, time_period).reset_index()\n",
    "    else: \n",
    "        df = df.reset_index()\n",
    "    \n",
    "    if log:\n",
    "        df[variable] = df[variable].apply(np.log)\n",
    "        \n",
    "    map = folium.Map(location=[34,-45], zoom_start=2,\n",
    "                     width=1200, height=600)\n",
    "    map.choropleth(geo_path=geo, \n",
    "                   data=df,\n",
    "                   columns=['country', variable],\n",
    "                   key_on='feature.properties.name', reset=True,\n",
    "                   fill_color='PuBuGn', fill_opacity=0.7, line_opacity=0.2,\n",
    "                   legend_name=legend_name,\n",
    "                   threshold_scale=threshold_scale)\n",
    "    return map"
   ]
  },
  {
   "cell_type": "code",
   "execution_count": null,
   "metadata": {
    "ExecuteTime": {
     "end_time": "2017-05-17T06:21:11.800799Z",
     "start_time": "2017-05-17T06:21:11.479452Z"
    },
    "run_control": {
     "frozen": false,
     "read_only": false
    },
    "scrolled": false
   },
   "outputs": [],
   "source": [
    "plot_map(data, 'total_pop', '2013-2017', legend_name='Total population')"
   ]
  },
  {
   "cell_type": "markdown",
   "metadata": {},
   "source": [
    "What is the solution? Often, taking a log transform will make a variable more normal. "
   ]
  },
  {
   "cell_type": "markdown",
   "metadata": {},
   "source": [
    "### Log transform"
   ]
  },
  {
   "cell_type": "markdown",
   "metadata": {},
   "source": [
    "Does taking the log reduce skewness? "
   ]
  },
  {
   "cell_type": "code",
   "execution_count": null,
   "metadata": {
    "ExecuteTime": {
     "end_time": "2017-05-17T06:21:11.810562Z",
     "start_time": "2017-05-17T06:21:11.802680Z"
    },
    "scrolled": true
   },
   "outputs": [],
   "source": [
    "recent[['total_pop']].apply(np.log).apply(scipy.stats.skew)\n",
    "# recent[['total_pop']].apply(np.log).apply(scipy.stats.skewtest)"
   ]
  },
  {
   "cell_type": "markdown",
   "metadata": {
    "ExecuteTime": {
     "end_time": "2017-05-16T06:16:19.134558Z",
     "start_time": "2017-05-16T06:16:19.127497Z"
    },
    "scrolled": true
   },
   "source": [
    "It does reduce skewness but does not make it disappear. How about kurtosis? "
   ]
  },
  {
   "cell_type": "code",
   "execution_count": null,
   "metadata": {
    "ExecuteTime": {
     "end_time": "2017-05-17T06:21:11.818517Z",
     "start_time": "2017-05-17T06:21:11.811968Z"
    }
   },
   "outputs": [],
   "source": [
    "recent[['total_pop']].apply(np.log).apply(scipy.stats.kurtosis)\n",
    "# recent[['total_pop']].apply(np.log).apply(scipy.stats.kurtosistest)"
   ]
  },
  {
   "cell_type": "markdown",
   "metadata": {},
   "source": [
    "Again, it reduces but does not get rid of kurtosis. "
   ]
  },
  {
   "cell_type": "markdown",
   "metadata": {},
   "source": [
    "Let's look visually at a histogram of the transformed distribution. \n",
    "\n",
    "First, let's functionalize the histogram code from earlier and add in the "
   ]
  },
  {
   "cell_type": "code",
   "execution_count": null,
   "metadata": {
    "ExecuteTime": {
     "end_time": "2017-05-17T06:21:11.842533Z",
     "start_time": "2017-05-17T06:21:11.820042Z"
    },
    "collapsed": true
   },
   "outputs": [],
   "source": [
    "def plot_hist(df, variable, bins=None, xlabel=None, by=None,\n",
    "              ylabel=None, title=None, logx=False, ax=None):\n",
    "\n",
    "    if not ax:\n",
    "        fig, ax = plt.subplots(figsize=(12,8))\n",
    "    if logx:\n",
    "        bins = np.logspace(np.log10(df[variable].min()), np.log10(df[variable].max()), bins)\n",
    "        ax.set_xscale(\"log\")\n",
    "\n",
    "    ax.hist(df[variable].dropna().values, bins=bins);\n",
    "    \n",
    "    if xlabel:\n",
    "        ax.set_xlabel(xlabel);\n",
    "    if ylabel:\n",
    "        ax.set_ylabel(ylabel);\n",
    "    if title:\n",
    "        ax.set_title(title);\n",
    "    \n",
    "    return ax"
   ]
  },
  {
   "cell_type": "code",
   "execution_count": null,
   "metadata": {
    "ExecuteTime": {
     "end_time": "2017-05-17T06:21:13.024015Z",
     "start_time": "2017-05-17T06:21:11.844269Z"
    }
   },
   "outputs": [],
   "source": [
    "plot_hist(recent, 'total_pop', bins=25, logx=True, \n",
    "          xlabel='Log of total population', ylabel='Number of countries',\n",
    "          title='Distribution of total population of countries 2013-2017');"
   ]
  },
  {
   "cell_type": "code",
   "execution_count": null,
   "metadata": {
    "ExecuteTime": {
     "end_time": "2017-05-17T06:21:13.335927Z",
     "start_time": "2017-05-17T06:21:13.026020Z"
    },
    "run_control": {
     "frozen": false,
     "read_only": false
    },
    "scrolled": false
   },
   "outputs": [],
   "source": [
    "plot_map(data, 'total_pop', '2013-2017', legend_name='Log of total population', log=True)"
   ]
  },
  {
   "cell_type": "markdown",
   "metadata": {},
   "source": [
    "Now we can see more variation across countries."
   ]
  },
  {
   "cell_type": "markdown",
   "metadata": {},
   "source": [
    "We can see larger countries have larger populations - that makes sense... we may hypothesize that water availability may affect countries with higher population _density_ rather than higher absolute populations.  \n",
    "\n",
    "*Normalization* is a critical tool in the data scientist's toolbox and is often used for engineering features."
   ]
  },
  {
   "cell_type": "markdown",
   "metadata": {},
   "source": [
    "### Normalization"
   ]
  },
  {
   "cell_type": "code",
   "execution_count": null,
   "metadata": {
    "ExecuteTime": {
     "end_time": "2017-05-17T06:21:13.341308Z",
     "start_time": "2017-05-17T06:21:13.337591Z"
    },
    "collapsed": true,
    "run_control": {
     "frozen": false,
     "read_only": false
    }
   },
   "outputs": [],
   "source": [
    "recent['population_density'] = recent.total_pop.divide(recent.total_area)"
   ]
  },
  {
   "cell_type": "code",
   "execution_count": null,
   "metadata": {
    "ExecuteTime": {
     "end_time": "2017-05-17T06:21:13.554171Z",
     "start_time": "2017-05-17T06:21:13.342764Z"
    },
    "run_control": {
     "frozen": false,
     "read_only": false
    },
    "scrolled": false
   },
   "outputs": [],
   "source": [
    "plot_map(recent, 'population_density', legend_name='Population density', \n",
    "         threshold_scale=[0,0.3,0.8, 1.8, 78])"
   ]
  },
  {
   "cell_type": "markdown",
   "metadata": {},
   "source": [
    "## Over time"
   ]
  },
  {
   "cell_type": "markdown",
   "metadata": {},
   "source": [
    "### One country"
   ]
  },
  {
   "cell_type": "markdown",
   "metadata": {},
   "source": [
    "Check a sample we have familiarity with. \n",
    "* Are the units what we think they are? \n",
    "* Does this behavior correspond with our pre-existing knowledge? "
   ]
  },
  {
   "cell_type": "code",
   "execution_count": null,
   "metadata": {
    "ExecuteTime": {
     "end_time": "2017-05-17T06:21:14.285119Z",
     "start_time": "2017-05-17T06:21:13.555868Z"
    },
    "run_control": {
     "frozen": false,
     "read_only": false
    }
   },
   "outputs": [],
   "source": [
    "plt.plot(time_series(data, 'United States of America', 'total_pop'));\n",
    "plt.xlabel('Year');\n",
    "plt.ylabel('Population');\n",
    "plt.title('United States population over time');\n"
   ]
  },
  {
   "cell_type": "markdown",
   "metadata": {},
   "source": [
    "### One region "
   ]
  },
  {
   "cell_type": "code",
   "execution_count": null,
   "metadata": {
    "ExecuteTime": {
     "end_time": "2017-05-17T06:21:16.521152Z",
     "start_time": "2017-05-17T06:21:14.286690Z"
    },
    "run_control": {
     "frozen": false,
     "read_only": false
    }
   },
   "outputs": [],
   "source": [
    "with sns.color_palette(sns.diverging_palette(220, 280, s=85, l=25, n=23)):\n",
    "    north_america = time_slice(subregion(data, 'North America'), '1958-1962').sort_values('total_pop').index.tolist()\n",
    "    for country in north_america:\n",
    "        plt.plot(time_series(data, country, 'total_pop'), label=country);\n",
    "        plt.xlabel('Year');\n",
    "        plt.ylabel('Population');\n",
    "        plt.title('North American populations over time');\n",
    "    plt.legend(loc=2,prop={'size':10});\n"
   ]
  },
  {
   "cell_type": "markdown",
   "metadata": {},
   "source": [
    "This doesn't really tell us anything except North America is the biggest country. We'd like to understand how each country's population changes over time, mostly in reference to itself. Let's normalize again. \n",
    "\n",
    "What should we normalize by? We could chose a country's minimum, mean, median, maximum... or any other location.\n",
    "\n",
    "Let's choose minimum so we can see how much each country grows in reference to its starting population. "
   ]
  },
  {
   "cell_type": "code",
   "execution_count": null,
   "metadata": {
    "ExecuteTime": {
     "end_time": "2017-05-17T06:21:18.808286Z",
     "start_time": "2017-05-17T06:21:16.522621Z"
    },
    "run_control": {
     "frozen": false,
     "read_only": false
    }
   },
   "outputs": [],
   "source": [
    "with sns.color_palette(sns.diverging_palette(220, 280, s=85, l=25, n=23)):\n",
    "    for country in north_america:\n",
    "        ts = time_series(data, country, 'total_pop')\n",
    "        ts['norm_pop'] = ts.total_pop/ts.total_pop.min()*100\n",
    "        plt.plot(ts['norm_pop'], label=country);\n",
    "        plt.xlabel('Year');\n",
    "        plt.ylabel('Percent increase in population');\n",
    "        plt.title('Percent increase in population from 1960 in North American countries');\n",
    "    plt.legend(loc=2,prop={'size':10});\n"
   ]
  },
  {
   "cell_type": "markdown",
   "metadata": {},
   "source": [
    "There are too many lines here!  We should really only have 3-4 lines on a plot to be able to spot patterns. What we can see, however, is that *generally*, larger countries grow faster thatn smaller, with two main exceptions. But, we can't figure out which countries those are. Another option is a heatmap. "
   ]
  },
  {
   "cell_type": "code",
   "execution_count": null,
   "metadata": {
    "ExecuteTime": {
     "end_time": "2017-05-17T06:21:18.832361Z",
     "start_time": "2017-05-17T06:21:18.810257Z"
    },
    "collapsed": true,
    "run_control": {
     "frozen": false,
     "read_only": false
    }
   },
   "outputs": [],
   "source": [
    "north_america_pop = variable_slice(subregion(data, 'North America'), 'total_pop')\n",
    "north_america_norm_pop = north_america_pop.div(north_america_pop.min(axis=1), axis=0)*100\n",
    "north_america_norm_pop = north_america_norm_pop.loc[north_america]"
   ]
  },
  {
   "cell_type": "code",
   "execution_count": null,
   "metadata": {
    "ExecuteTime": {
     "end_time": "2017-05-17T06:21:20.237003Z",
     "start_time": "2017-05-17T06:21:18.833872Z"
    },
    "run_control": {
     "frozen": false,
     "read_only": false
    },
    "scrolled": false
   },
   "outputs": [],
   "source": [
    "fig, ax = plt.subplots(figsize=(16, 12));\n",
    "sns.heatmap(north_america_norm_pop, ax=ax, cmap=sns.light_palette((214, 90, 60), input=\"husl\", as_cmap=True));\n",
    "plt.xticks(rotation=45);\n",
    "plt.xlabel('Time period');\n",
    "plt.ylabel('Country, ordered by population in 1960 (<- greatest to least ->)');\n",
    "plt.title('Percent increase in population from 1960');\n"
   ]
  },
  {
   "cell_type": "markdown",
   "metadata": {},
   "source": [
    "## Geospatial over time (Interactive widgets) "
   ]
  },
  {
   "cell_type": "markdown",
   "metadata": {},
   "source": [
    "[`ipywidgets`](https://github.com/jupyter-widgets/ipywidgets) allow for you to change variables passed through to a function through some kind of widget, such as a selection slider (below), a drop down menu, or more. \n",
    "\n",
    "To use `ipywidgets` you must: \n",
    "1. Have already run this from the command line: \n",
    " `jupyter nbextension enable --py --sys-prefix widgetsnbextension`\n",
    "2. Define your widget including the possible value options and which value to initialize the widget at. \n",
    "3. Define the function that you want to make interactive. \n",
    "4. Initialize the interaction through `widgets.interact`."
   ]
  },
  {
   "cell_type": "markdown",
   "metadata": {},
   "source": [
    "We perform all these steps within a function so we can reuse it for different variables:"
   ]
  },
  {
   "cell_type": "code",
   "execution_count": null,
   "metadata": {
    "ExecuteTime": {
     "end_time": "2017-05-17T06:21:20.245031Z",
     "start_time": "2017-05-17T06:21:20.238537Z"
    },
    "collapsed": true,
    "run_control": {
     "frozen": false,
     "read_only": false
    }
   },
   "outputs": [],
   "source": [
    "def map_over_time(df, variable, time_periods, log=False, \n",
    "                  threshold_scale=None, legend_name=None):\n",
    "    \n",
    "    time_slider = widgets.SelectionSlider(options=time_periods.tolist(),\n",
    "                                      value=time_periods[0],\n",
    "                                      description='Time period:',\n",
    "                                      disabled=False,\n",
    "                                      button_style='')\n",
    "    widgets.interact(plot_map, df=widgets.fixed(df), \n",
    "                     variable=widgets.fixed(variable),\n",
    "                     time_period=time_slider, log=widgets.fixed(log), \n",
    "                     legend_name=widgets.fixed(legend_name), \n",
    "                     threshold_scale=widgets.fixed(threshold_scale));"
   ]
  },
  {
   "cell_type": "code",
   "execution_count": null,
   "metadata": {
    "ExecuteTime": {
     "end_time": "2017-05-17T06:21:20.253436Z",
     "start_time": "2017-05-17T06:21:20.246634Z"
    },
    "collapsed": true
   },
   "outputs": [],
   "source": [
    "time_periods = data.time_period.unique()"
   ]
  },
  {
   "cell_type": "code",
   "execution_count": null,
   "metadata": {
    "ExecuteTime": {
     "end_time": "2017-05-17T06:21:20.685857Z",
     "start_time": "2017-05-17T06:21:20.255224Z"
    }
   },
   "outputs": [],
   "source": [
    "map_over_time(data, 'total_pop', time_periods, log=True)"
   ]
  },
  {
   "cell_type": "markdown",
   "metadata": {},
   "source": [
    "## Note on exploratory geospatial data analysis\n",
    "\n",
    "Please note, geospatial data analysis is a whole field of its own and we don't begin to do it justice here. There are many technical assumptions for geospatial modeling that we have not looked at as well as number of numerical methods for exploring it. The PySal package is a good package to start with in the field and tutorial can be found [here](http://darribas.org/gds_scipy16/) for introductory geospatial data analysis. "
   ]
  },
  {
   "cell_type": "markdown",
   "metadata": {},
   "source": [
    "## **To do**: Record questions that came up during the exploration"
   ]
  },
  {
   "cell_type": "markdown",
   "metadata": {
    "collapsed": true,
    "run_control": {
     "frozen": false,
     "read_only": false
    }
   },
   "source": [
    "# **To do**: Perform univariate analysis on an additional variable."
   ]
  },
  {
   "cell_type": "markdown",
   "metadata": {},
   "source": [
    "# Extras"
   ]
  },
  {
   "cell_type": "markdown",
   "metadata": {},
   "source": [
    "## Exploring *total renewable water resources*"
   ]
  },
  {
   "cell_type": "code",
   "execution_count": null,
   "metadata": {
    "ExecuteTime": {
     "end_time": "2017-05-17T06:21:21.413937Z",
     "start_time": "2017-05-17T06:21:20.687641Z"
    },
    "run_control": {
     "frozen": false,
     "read_only": false
    }
   },
   "outputs": [],
   "source": [
    "plot_hist(recent, 'total_renewable', bins=50, \n",
    "          xlabel='Total renewable water resources ($10^9 m^3/yr$)',\n",
    "          ylabel='Number of countries', \n",
    "          title='Distribution of total renewable water resources, 2013-2017');"
   ]
  },
  {
   "cell_type": "code",
   "execution_count": null,
   "metadata": {
    "ExecuteTime": {
     "end_time": "2017-05-17T06:21:22.578593Z",
     "start_time": "2017-05-17T06:21:21.415342Z"
    },
    "run_control": {
     "frozen": false,
     "read_only": false
    }
   },
   "outputs": [],
   "source": [
    "plot_hist(recent, 'total_renewable', bins=50, \n",
    "          xlabel='Total renewable water resources ($10^9 m^3/yr$)',\n",
    "          ylabel='Number of countries', logx=True,\n",
    "          title='Distribution of total renewable water resources, 2013-2017');"
   ]
  },
  {
   "cell_type": "code",
   "execution_count": null,
   "metadata": {
    "ExecuteTime": {
     "end_time": "2017-05-17T06:21:22.601626Z",
     "start_time": "2017-05-17T06:21:22.580219Z"
    },
    "collapsed": true,
    "run_control": {
     "frozen": false,
     "read_only": false
    }
   },
   "outputs": [],
   "source": [
    "north_america_renew = variable_slice(subregion(data, 'North America'), 'total_renewable')"
   ]
  },
  {
   "cell_type": "code",
   "execution_count": null,
   "metadata": {
    "ExecuteTime": {
     "end_time": "2017-05-17T06:21:23.993937Z",
     "start_time": "2017-05-17T06:21:22.603143Z"
    },
    "run_control": {
     "frozen": false,
     "read_only": false
    },
    "scrolled": false
   },
   "outputs": [],
   "source": [
    "fig, ax = plt.subplots(figsize=(16, 12));\n",
    "sns.heatmap(north_america_renew, ax=ax, cmap=sns.light_palette((214, 90, 60), input=\"husl\", as_cmap=True));\n",
    "plt.xticks(rotation=45);\n",
    "plt.xlabel('Time period');\n",
    "plt.ylabel('Country, ordered by population in 1960 (<- greatest to least ->)');\n",
    "plt.title('Percent increase in population from 1960');\n"
   ]
  },
  {
   "cell_type": "markdown",
   "metadata": {},
   "source": [
    "Total renewable resources doesn't seem to change over time... let's just check:"
   ]
  },
  {
   "cell_type": "code",
   "execution_count": null,
   "metadata": {
    "ExecuteTime": {
     "end_time": "2017-05-17T06:21:24.011126Z",
     "start_time": "2017-05-17T06:21:23.995522Z"
    }
   },
   "outputs": [],
   "source": [
    "north_america_renew.head()"
   ]
  },
  {
   "cell_type": "markdown",
   "metadata": {},
   "source": [
    "Just to be sure, let's subtract 1958-1962 values from each period and add up the results: "
   ]
  },
  {
   "cell_type": "code",
   "execution_count": null,
   "metadata": {
    "ExecuteTime": {
     "end_time": "2017-05-17T06:21:24.018086Z",
     "start_time": "2017-05-17T06:21:24.012556Z"
    }
   },
   "outputs": [],
   "source": [
    "north_america_renew.sub(north_america_renew.iloc[:,0], axis=0).sum()"
   ]
  },
  {
   "cell_type": "markdown",
   "metadata": {},
   "source": [
    "Does this apply to the rest of the world? "
   ]
  },
  {
   "cell_type": "code",
   "execution_count": null,
   "metadata": {
    "ExecuteTime": {
     "end_time": "2017-05-17T06:21:24.037017Z",
     "start_time": "2017-05-17T06:21:24.019676Z"
    },
    "collapsed": true
   },
   "outputs": [],
   "source": [
    "renew = variable_slice(data, 'total_renewable')"
   ]
  },
  {
   "cell_type": "code",
   "execution_count": null,
   "metadata": {
    "ExecuteTime": {
     "end_time": "2017-05-17T06:21:24.044299Z",
     "start_time": "2017-05-17T06:21:24.038424Z"
    }
   },
   "outputs": [],
   "source": [
    "renew.sub(renew.iloc[:,0], axis=0).sum()"
   ]
  },
  {
   "cell_type": "markdown",
   "metadata": {},
   "source": [
    "Uh oh, looks like not. Let's look at it by country instead: "
   ]
  },
  {
   "cell_type": "code",
   "execution_count": null,
   "metadata": {
    "ExecuteTime": {
     "end_time": "2017-05-17T06:21:24.051482Z",
     "start_time": "2017-05-17T06:21:24.045638Z"
    }
   },
   "outputs": [],
   "source": [
    "renew.sub(renew.iloc[:,0], axis=0).sum(axis=1).sort_values().head()"
   ]
  },
  {
   "cell_type": "markdown",
   "metadata": {},
   "source": [
    "Bhutan changed! But no where else. Let's also check the other end of the sorted list:"
   ]
  },
  {
   "cell_type": "code",
   "execution_count": null,
   "metadata": {
    "ExecuteTime": {
     "end_time": "2017-05-17T06:21:24.060231Z",
     "start_time": "2017-05-17T06:21:24.053179Z"
    }
   },
   "outputs": [],
   "source": [
    "renew.sub(renew.iloc[:,0], axis=0).sum(axis=1).sort_values().tail(50)"
   ]
  },
  {
   "cell_type": "markdown",
   "metadata": {},
   "source": [
    "Oh, we've got NaNs... probably because these countries didn't always exist."
   ]
  },
  {
   "cell_type": "markdown",
   "metadata": {},
   "source": [
    "## Assessing many variables"
   ]
  },
  {
   "cell_type": "code",
   "execution_count": null,
   "metadata": {
    "ExecuteTime": {
     "end_time": "2017-05-17T06:21:24.070898Z",
     "start_time": "2017-05-17T06:21:24.061575Z"
    },
    "collapsed": true
   },
   "outputs": [],
   "source": [
    "def two_hist(df, variable, bins=50,\n",
    "              ylabel='Number of countries', title=None):\n",
    "\n",
    "    fig, (ax1, ax2) = plt.subplots(1, 2, figsize=(18,8))\n",
    "    ax1 = plot_hist(df, variable, bins=bins, \n",
    "                    xlabel=variable, ylabel=ylabel, \n",
    "                    ax=ax1, title=variable if not title else title)\n",
    "    ax2 = plot_hist(df, variable, bins=bins, \n",
    "                    xlabel='Log of '+ variable, ylabel=ylabel, \n",
    "                    logx=True, ax=ax2, \n",
    "                    title='Log of '+ variable if not title else title)\n",
    "    plt.close()\n",
    "    return fig"
   ]
  },
  {
   "cell_type": "code",
   "execution_count": null,
   "metadata": {
    "ExecuteTime": {
     "end_time": "2017-05-17T06:21:24.078214Z",
     "start_time": "2017-05-17T06:21:24.072295Z"
    },
    "collapsed": true
   },
   "outputs": [],
   "source": [
    "def hist_over_var(df, variables, bins=50,\n",
    "                  ylabel='Number of countries', title=None):\n",
    "    \n",
    "    variable_slider = widgets.Dropdown(options=variables.tolist(),\n",
    "                                      value=variables[0],\n",
    "                                      description='Variable:',\n",
    "                                      disabled=False,\n",
    "                                      button_style='')\n",
    "    widgets.interact(two_hist, df=widgets.fixed(df), \n",
    "                     variable=variable_slider, ylabel=widgets.fixed(ylabel),\n",
    "                     title=widgets.fixed(title), bins=widgets.fixed(bins));"
   ]
  },
  {
   "cell_type": "code",
   "execution_count": null,
   "metadata": {
    "ExecuteTime": {
     "end_time": "2017-05-17T06:21:25.439572Z",
     "start_time": "2017-05-17T06:21:24.079566Z"
    }
   },
   "outputs": [],
   "source": [
    "hist_over_var(recent, recent.columns, bins=20)"
   ]
  },
  {
   "cell_type": "markdown",
   "metadata": {
    "collapsed": true,
    "run_control": {
     "frozen": false,
     "read_only": false
    }
   },
   "source": [
    "<center><p style=\"text-align:center;font-size:160%\">© <a href=\"http://www.svds.com\">2017 Silicon Valley Data Science LLC</a></p></center>"
   ]
  }
 ],
 "metadata": {
  "kernelspec": {
   "display_name": "Python 3",
   "language": "python",
   "name": "python3"
  },
  "language_info": {
   "codemirror_mode": {
    "name": "ipython",
    "version": 3
   },
   "file_extension": ".py",
   "mimetype": "text/x-python",
   "name": "python",
   "nbconvert_exporter": "python",
   "pygments_lexer": "ipython3",
   "version": "3.6.1"
  },
  "nav_menu": {},
  "toc": {
   "navigate_menu": true,
   "number_sections": true,
   "sideBar": true,
   "threshold": 6,
   "toc_cell": true,
   "toc_section_display": "block",
   "toc_window_display": false
  }
 },
 "nbformat": 4,
 "nbformat_minor": 2
}
